{
 "cells": [
  {
   "cell_type": "code",
   "execution_count": 1,
   "id": "79fa1df2",
   "metadata": {},
   "outputs": [],
   "source": [
    "address=\"56th road, john street, btm, ka - 56007 ||| 6th mar 2023 ||| 07:56:32\""
   ]
  },
  {
   "cell_type": "code",
   "execution_count": 2,
   "id": "38367d0d",
   "metadata": {},
   "outputs": [],
   "source": [
    "address_split=address.split(\"|||\")"
   ]
  },
  {
   "cell_type": "code",
   "execution_count": 3,
   "id": "f4f5299c",
   "metadata": {},
   "outputs": [
    {
     "data": {
      "text/plain": [
       "['56th road, john street, btm, ka - 56007 ', ' 6th mar 2023 ', ' 07:56:32']"
      ]
     },
     "execution_count": 3,
     "metadata": {},
     "output_type": "execute_result"
    }
   ],
   "source": [
    "address_split"
   ]
  },
  {
   "cell_type": "code",
   "execution_count": 4,
   "id": "f89629d7",
   "metadata": {},
   "outputs": [],
   "source": [
    "addr=address_split[0]"
   ]
  },
  {
   "cell_type": "code",
   "execution_count": 5,
   "id": "759920dc",
   "metadata": {},
   "outputs": [],
   "source": [
    "date=address_split[1]"
   ]
  },
  {
   "cell_type": "code",
   "execution_count": 6,
   "id": "702c39b4",
   "metadata": {},
   "outputs": [],
   "source": [
    "time=address_split[2]"
   ]
  },
  {
   "cell_type": "code",
   "execution_count": 7,
   "id": "b8aefa0a",
   "metadata": {},
   "outputs": [
    {
     "data": {
      "text/plain": [
       "'56th road, john street, btm, ka - 56007 '"
      ]
     },
     "execution_count": 7,
     "metadata": {},
     "output_type": "execute_result"
    }
   ],
   "source": [
    "addr"
   ]
  },
  {
   "cell_type": "code",
   "execution_count": 8,
   "id": "e008dd3c",
   "metadata": {},
   "outputs": [
    {
     "data": {
      "text/plain": [
       "' 6th mar 2023 '"
      ]
     },
     "execution_count": 8,
     "metadata": {},
     "output_type": "execute_result"
    }
   ],
   "source": [
    "date"
   ]
  },
  {
   "cell_type": "code",
   "execution_count": 69,
   "id": "728d187c",
   "metadata": {},
   "outputs": [
    {
     "data": {
      "text/plain": [
       "['6th', 'mar', '2023']"
      ]
     },
     "execution_count": 69,
     "metadata": {},
     "output_type": "execute_result"
    }
   ],
   "source": [
    "date_split=date.split()\n",
    "date_split"
   ]
  },
  {
   "cell_type": "code",
   "execution_count": 70,
   "id": "a85b07ac",
   "metadata": {},
   "outputs": [],
   "source": [
    "day=date_split[0]\n",
    "month=date_split[1]\n",
    "year=date_split[2]"
   ]
  },
  {
   "cell_type": "code",
   "execution_count": 9,
   "id": "01de53da",
   "metadata": {},
   "outputs": [
    {
     "data": {
      "text/plain": [
       "' 07:56:32'"
      ]
     },
     "execution_count": 9,
     "metadata": {},
     "output_type": "execute_result"
    }
   ],
   "source": [
    "time"
   ]
  },
  {
   "cell_type": "code",
   "execution_count": 10,
   "id": "55478821",
   "metadata": {},
   "outputs": [],
   "source": [
    "new_addr=addr.split(\",\")"
   ]
  },
  {
   "cell_type": "code",
   "execution_count": 11,
   "id": "7a26c083",
   "metadata": {},
   "outputs": [
    {
     "data": {
      "text/plain": [
       "['56th road', ' john street', ' btm', ' ka - 56007 ']"
      ]
     },
     "execution_count": 11,
     "metadata": {},
     "output_type": "execute_result"
    }
   ],
   "source": [
    "new_addr"
   ]
  },
  {
   "cell_type": "code",
   "execution_count": 20,
   "id": "effe9c15",
   "metadata": {},
   "outputs": [],
   "source": [
    "house_no=new_addr[0].strip()\n",
    "street=new_addr[1].strip()\n",
    "city=new_addr[2].strip()\n",
    "state=new_addr[3].strip()"
   ]
  },
  {
   "cell_type": "code",
   "execution_count": 21,
   "id": "0628e71a",
   "metadata": {},
   "outputs": [
    {
     "data": {
      "text/plain": [
       "'56th road'"
      ]
     },
     "execution_count": 21,
     "metadata": {},
     "output_type": "execute_result"
    }
   ],
   "source": [
    "house_no"
   ]
  },
  {
   "cell_type": "code",
   "execution_count": 22,
   "id": "30c1372b",
   "metadata": {},
   "outputs": [
    {
     "data": {
      "text/plain": [
       "'john street'"
      ]
     },
     "execution_count": 22,
     "metadata": {},
     "output_type": "execute_result"
    }
   ],
   "source": [
    "street"
   ]
  },
  {
   "cell_type": "code",
   "execution_count": 23,
   "id": "f94aa401",
   "metadata": {},
   "outputs": [
    {
     "data": {
      "text/plain": [
       "'btm'"
      ]
     },
     "execution_count": 23,
     "metadata": {},
     "output_type": "execute_result"
    }
   ],
   "source": [
    "city"
   ]
  },
  {
   "cell_type": "code",
   "execution_count": 24,
   "id": "ee7b3f1d",
   "metadata": {},
   "outputs": [
    {
     "data": {
      "text/plain": [
       "'ka - 56007'"
      ]
     },
     "execution_count": 24,
     "metadata": {},
     "output_type": "execute_result"
    }
   ],
   "source": [
    "state"
   ]
  },
  {
   "cell_type": "code",
   "execution_count": 25,
   "id": "e3acd6f1",
   "metadata": {},
   "outputs": [],
   "source": [
    "time_split=time.split(\":\")"
   ]
  },
  {
   "cell_type": "code",
   "execution_count": 26,
   "id": "c2df0c43",
   "metadata": {},
   "outputs": [
    {
     "data": {
      "text/plain": [
       "[' 07', '56', '32']"
      ]
     },
     "execution_count": 26,
     "metadata": {},
     "output_type": "execute_result"
    }
   ],
   "source": [
    "time_split"
   ]
  },
  {
   "cell_type": "code",
   "execution_count": 27,
   "id": "72231d8b",
   "metadata": {},
   "outputs": [],
   "source": [
    "hrs=time_split[0].strip()\n",
    "mins=time_split[1].strip()\n",
    "secs=time_split[2].strip()"
   ]
  },
  {
   "cell_type": "code",
   "execution_count": 28,
   "id": "36f2feb9",
   "metadata": {},
   "outputs": [
    {
     "data": {
      "text/plain": [
       "'07'"
      ]
     },
     "execution_count": 28,
     "metadata": {},
     "output_type": "execute_result"
    }
   ],
   "source": [
    "hrs"
   ]
  },
  {
   "cell_type": "code",
   "execution_count": 29,
   "id": "25d8b671",
   "metadata": {},
   "outputs": [
    {
     "data": {
      "text/plain": [
       "'56'"
      ]
     },
     "execution_count": 29,
     "metadata": {},
     "output_type": "execute_result"
    }
   ],
   "source": [
    "mins"
   ]
  },
  {
   "cell_type": "code",
   "execution_count": 33,
   "id": "d521fd11",
   "metadata": {},
   "outputs": [
    {
     "data": {
      "text/plain": [
       "'32'"
      ]
     },
     "execution_count": 33,
     "metadata": {},
     "output_type": "execute_result"
    }
   ],
   "source": [
    "secs"
   ]
  },
  {
   "cell_type": "code",
   "execution_count": 71,
   "id": "d29a67b3",
   "metadata": {},
   "outputs": [],
   "source": [
    "newdata={\n",
    "    \"house_no\":house_no,\n",
    "    \"street\":street,\n",
    "    \"city\":city,\n",
    "    \"state\":state,\n",
    "     'day': day,\n",
    " 'month': month,\n",
    " 'year': year,\n",
    "    \"hours\":hrs,\n",
    "    \"minutes\":mins,\n",
    "    \"seconds\":secs,\n",
    "}"
   ]
  },
  {
   "cell_type": "code",
   "execution_count": 72,
   "id": "dad789c9",
   "metadata": {},
   "outputs": [
    {
     "data": {
      "text/plain": [
       "{'house_no': '56th road',\n",
       " 'street': 'john street',\n",
       " 'city': 'btm',\n",
       " 'state': 'ka - 56007',\n",
       " 'day': '6th',\n",
       " 'month': 'mar',\n",
       " 'year': '2023',\n",
       " 'hours': '07',\n",
       " 'minutes': '56',\n",
       " 'seconds': '32'}"
      ]
     },
     "execution_count": 72,
     "metadata": {},
     "output_type": "execute_result"
    }
   ],
   "source": [
    "newdata"
   ]
  },
  {
   "cell_type": "code",
   "execution_count": 37,
   "id": "d25ee677",
   "metadata": {},
   "outputs": [],
   "source": [
    "address1=\"25th ave, mg road, whitefield,ka - 789098  |||  1st jan 2023 ||| 02:45:23\""
   ]
  },
  {
   "cell_type": "code",
   "execution_count": 40,
   "id": "c7b494e1",
   "metadata": {},
   "outputs": [],
   "source": [
    "addr_split=address1.split(\"|||\")"
   ]
  },
  {
   "cell_type": "code",
   "execution_count": 45,
   "id": "72adfc06",
   "metadata": {},
   "outputs": [
    {
     "data": {
      "text/plain": [
       "'25th ave, mg road, whitefield,ka - 789098  '"
      ]
     },
     "execution_count": 45,
     "metadata": {},
     "output_type": "execute_result"
    }
   ],
   "source": [
    "addr1=addr_split[0]\n",
    "addr1"
   ]
  },
  {
   "cell_type": "code",
   "execution_count": 47,
   "id": "054037a4",
   "metadata": {},
   "outputs": [
    {
     "data": {
      "text/plain": [
       "'  1st jan 2023 '"
      ]
     },
     "execution_count": 47,
     "metadata": {},
     "output_type": "execute_result"
    }
   ],
   "source": [
    "date_1=addr_split[1]\n",
    "date_1"
   ]
  },
  {
   "cell_type": "code",
   "execution_count": 49,
   "id": "1b9d725e",
   "metadata": {},
   "outputs": [
    {
     "data": {
      "text/plain": [
       "' 02:45:23'"
      ]
     },
     "execution_count": 49,
     "metadata": {},
     "output_type": "execute_result"
    }
   ],
   "source": [
    "time_1=addr_split[2]\n",
    "time_1"
   ]
  },
  {
   "cell_type": "code",
   "execution_count": 50,
   "id": "24289af1",
   "metadata": {},
   "outputs": [],
   "source": [
    "addr1_split=addr1.split(\",\")"
   ]
  },
  {
   "cell_type": "code",
   "execution_count": 51,
   "id": "17e3503b",
   "metadata": {},
   "outputs": [
    {
     "data": {
      "text/plain": [
       "['25th ave', ' mg road', ' whitefield', 'ka - 789098  ']"
      ]
     },
     "execution_count": 51,
     "metadata": {},
     "output_type": "execute_result"
    }
   ],
   "source": [
    "addr1_split"
   ]
  },
  {
   "cell_type": "code",
   "execution_count": 53,
   "id": "8e2a49e0",
   "metadata": {},
   "outputs": [],
   "source": [
    "house1=addr1_split[0].strip()\n",
    "street1=addr1_split[1].strip()\n",
    "city1=addr1_split[2].strip()\n",
    "state1=addr1_split[3].strip()"
   ]
  },
  {
   "cell_type": "code",
   "execution_count": 58,
   "id": "490c3bd5",
   "metadata": {},
   "outputs": [],
   "source": [
    "date1_split=date_1.split()"
   ]
  },
  {
   "cell_type": "code",
   "execution_count": 59,
   "id": "44da12a2",
   "metadata": {},
   "outputs": [
    {
     "data": {
      "text/plain": [
       "['1st', 'jan', '2023']"
      ]
     },
     "execution_count": 59,
     "metadata": {},
     "output_type": "execute_result"
    }
   ],
   "source": [
    "date1_split"
   ]
  },
  {
   "cell_type": "code",
   "execution_count": 60,
   "id": "198d6af2",
   "metadata": {},
   "outputs": [],
   "source": [
    "day1=date1_split[0]\n",
    "month1=date1_split[1]\n",
    "year1=date1_split[2]\n",
    "time_split = time_1.split(\":\")"
   ]
  },
  {
   "cell_type": "code",
   "execution_count": 61,
   "id": "6d58b607",
   "metadata": {},
   "outputs": [
    {
     "data": {
      "text/plain": [
       "[' 02', '45', '23']"
      ]
     },
     "execution_count": 61,
     "metadata": {},
     "output_type": "execute_result"
    }
   ],
   "source": [
    "time_split"
   ]
  },
  {
   "cell_type": "code",
   "execution_count": 62,
   "id": "e382b556",
   "metadata": {},
   "outputs": [],
   "source": [
    "hours1=time_split[0]\n",
    "mins1=time_split[1]\n",
    "secs1=time_split[2]"
   ]
  },
  {
   "cell_type": "code",
   "execution_count": 66,
   "id": "5e60da82",
   "metadata": {},
   "outputs": [],
   "source": [
    "new_data1={\n",
    "    \"house_no\":house1,\n",
    "    \"street\":street1,\n",
    "    \"city\":city1,\n",
    "    \"state\":state1,\n",
    "    \"day\":day1,\n",
    "    \"month\":month1,\n",
    "    \"year\":year1,\n",
    "    \"hours\":hours1,\n",
    "    \"minutes\":mins1,\n",
    "    \"seconds\":secs1\n",
    "}"
   ]
  },
  {
   "cell_type": "code",
   "execution_count": 67,
   "id": "3ff8fd27",
   "metadata": {},
   "outputs": [
    {
     "data": {
      "text/plain": [
       "{'house_no': '25th ave',\n",
       " 'street': 'mg road',\n",
       " 'city': 'whitefield',\n",
       " 'state': 'ka - 789098',\n",
       " 'day': '1st',\n",
       " 'month': 'jan',\n",
       " 'year': '2023',\n",
       " 'hours': ' 02',\n",
       " 'minutes': '45',\n",
       " 'seconds': '23'}"
      ]
     },
     "execution_count": 67,
     "metadata": {},
     "output_type": "execute_result"
    }
   ],
   "source": [
    "new_data1"
   ]
  },
  {
   "cell_type": "code",
   "execution_count": null,
   "id": "35c83de4",
   "metadata": {},
   "outputs": [],
   "source": []
  }
 ],
 "metadata": {
  "kernelspec": {
   "display_name": "Python 3 (ipykernel)",
   "language": "python",
   "name": "python3"
  },
  "language_info": {
   "codemirror_mode": {
    "name": "ipython",
    "version": 3
   },
   "file_extension": ".py",
   "mimetype": "text/x-python",
   "name": "python",
   "nbconvert_exporter": "python",
   "pygments_lexer": "ipython3",
   "version": "3.10.9"
  }
 },
 "nbformat": 4,
 "nbformat_minor": 5
}
